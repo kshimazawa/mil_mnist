{
  "nbformat": 4,
  "nbformat_minor": 0,
  "metadata": {
    "colab": {
      "provenance": [],
      "gpuType": "T4"
    },
    "kernelspec": {
      "name": "python3",
      "display_name": "Python 3"
    },
    "language_info": {
      "name": "python"
    },
    "accelerator": "GPU"
  },
  "cells": [
    {
      "cell_type": "code",
      "source": [
        "!pip install torchview"
      ],
      "metadata": {
        "colab": {
          "base_uri": "https://localhost:8080/"
        },
        "id": "CO8xL-4DEuvm",
        "outputId": "319c2d0f-f4c5-41dd-8def-3f435b9cc920"
      },
      "execution_count": 1,
      "outputs": [
        {
          "output_type": "stream",
          "name": "stdout",
          "text": [
            "Collecting torchview\n",
            "  Downloading torchview-0.2.6-py3-none-any.whl.metadata (12 kB)\n",
            "Downloading torchview-0.2.6-py3-none-any.whl (25 kB)\n",
            "Installing collected packages: torchview\n",
            "Successfully installed torchview-0.2.6\n"
          ]
        }
      ]
    },
    {
      "cell_type": "code",
      "source": [
        "import torch\n",
        "import torch.nn as nn\n",
        "import torchvision\n",
        "from torchvision.models import resnet18\n",
        "import torchvision.transforms as transforms\n",
        "from torchvision import datasets\n",
        "import numpy as np\n",
        "import matplotlib.pyplot as plt\n",
        "from tqdm import tqdm\n",
        "from torchview import draw_graph\n",
        "\n",
        "\n",
        "class FeatureExtractor(nn.Module):\n",
        "    def __init__(self, num_features=32):\n",
        "        super(FeatureExtractor, self).__init__()\n",
        "\n",
        "        self._model_conv = resnet18()\n",
        "        self._model_conv.conv1 = nn.Conv2d(1, 64, kernel_size=7, stride=2, padding=3, bias=False)\n",
        "        num_ftrs = self._model_conv.fc.in_features\n",
        "        self._model_conv.fc = nn.Linear(num_ftrs, num_features)\n",
        "\n",
        "        self.relu = nn.ReLU()\n",
        "\n",
        "    def forward(self, x):\n",
        "        x = x.view(x.size(0) * x.size(1), x.size(2), x.size(3), x.size(4))\n",
        "        out = self._model_conv(x)\n",
        "        out = self.relu(out)\n",
        "        return out\n",
        "\n",
        "class DistributionPoolingFilter(nn.Module):\n",
        "    def __init__(self,num_bins=21,sigma=0.05):\n",
        "        super(DistributionPoolingFilter, self).__init__()\n",
        "        self.num_bins = num_bins\n",
        "        self.sigma = sigma\n",
        "        self.alpha = 1/np.sqrt(2*np.pi*self.sigma**2)\n",
        "        self.beta = -1/(2*(sigma**2))\n",
        "\n",
        "        sample_points = torch.linspace(0,1,steps=num_bins,dtype=torch.float32,requires_grad=False)\n",
        "        self.register_buffer('sample_points',sample_points)\n",
        "\n",
        "    def forward(self,data):\n",
        "        batch_size,num_instances,num_features = data.size()\n",
        "        sample_points = self.sample_points.repeat(batch_size,num_instances,num_features,1)\n",
        "        data = torch.reshape(data,(batch_size,num_instances,num_features,1))\n",
        "        diff = sample_points - data.repeat(1,1,1,self.num_bins)\n",
        "        diff_sq = diff**2\n",
        "\n",
        "        result = self.alpha*torch.exp(self.beta*diff_sq)\n",
        "        out_unnormalized = torch.sum(result,dim=1)\n",
        "        norm_coeff = torch.sum(out_unnormalized,dim=2,keepdim=True)\n",
        "        out = out_unnormalized/norm_coeff\n",
        "        return out\n",
        "\n",
        "class RepresentationTransformation(nn.Module):\n",
        "    def __init__(self,num_features=32,num_bins=21,num_classes=1):\n",
        "        super(RepresentationTransformation, self).__init__()\n",
        "        self.fc = nn.Sequential(\n",
        "            nn.Dropout(0.5),\n",
        "            nn.Linear(num_features*num_bins,384),\n",
        "            nn.ReLU(),\n",
        "            nn.Dropout(0.5),\n",
        "            nn.Linear(384,192),\n",
        "            nn.ReLU(),\n",
        "            nn.Dropout(0.5),\n",
        "            nn.Linear(192,num_classes)\n",
        "        )\n",
        "    def forward(self,x):\n",
        "        out = self.fc(x)\n",
        "        return out\n",
        "\n",
        "class Model(nn.Module):\n",
        "    def __init__(self,num_classes=1,num_instances=100,num_features=64,num_bins=21,sigma=0.05):\n",
        "        super(Model, self).__init__()\n",
        "        self.num_classes = num_classes\n",
        "        self.num_instances = num_instances\n",
        "        self.num_features = num_features\n",
        "        self.num_bins = num_bins\n",
        "        self.sigma = sigma\n",
        "\n",
        "        self.feature_extractor = FeatureExtractor(num_features=num_features)\n",
        "        self.distribution_pooling_filter = DistributionPoolingFilter(num_bins=num_bins,sigma=sigma)\n",
        "        self.representation_transformation = RepresentationTransformation(num_features=num_features,num_bins=num_bins,num_classes=num_classes)\n",
        "\n",
        "    def forward(self,x):\n",
        "        out = self.feature_extractor(x)\n",
        "        out = torch.reshape(out,(-1,self.num_instances,self.num_features))\n",
        "        out = self.distribution_pooling_filter(out)\n",
        "        out = torch.flatten(out,1)\n",
        "        out = self.representation_transformation(out)\n",
        "        return out"
      ],
      "metadata": {
        "id": "S00z0a2Psqhh"
      },
      "execution_count": 2,
      "outputs": []
    },
    {
      "cell_type": "code",
      "source": [
        "\n",
        "\n",
        "# Example usage:\n",
        "mnist_train =  torchvision.datasets.MNIST(root=\"mnist/mnist_train\", train=True, download=True, transform=transforms.Compose([transforms.ToTensor(),]))\n",
        "mnist_test =  torchvision.datasets.MNIST(root=\"mnist/mnist_test\", train=False, download=True, transform=transforms.Compose([transforms.ToTensor(),]))\n",
        "\n",
        "dataloader = torch.utils.data.DataLoader(mnist_train, batch_size=2, shuffle=True)\n",
        "dataiter = iter(dataloader)\n",
        "images, labels = next(dataiter)\n",
        "\n",
        "def create_bag(x, num_images=100, dataset=mnist_train):\n",
        "  \"\"\"Creates a bag of MNIST images.\n",
        "\n",
        "  Args:\n",
        "    x: The fraction of digit 0 in the bag.\n",
        "    num_images: The total number of images in the bag.\n",
        "    dataset: The dataset to sample from.\n",
        "  \"\"\"\n",
        "  indices_0 = np.where(np.array(dataset.targets) == 0)[0]\n",
        "  indices_7 = np.where(np.array(dataset.targets) == 7)[0]\n",
        "\n",
        "  num_0 = int(x * num_images)\n",
        "  num_7 = num_images - num_0\n",
        "\n",
        "  selected_indices_0 = np.random.choice(indices_0, size=num_0, replace=False)\n",
        "  selected_indices_7 = np.random.choice(indices_7, size=num_7, replace=False)\n",
        "\n",
        "  bag_indices = np.random.permutation(np.concatenate([selected_indices_0, selected_indices_7]))\n",
        "  bag_images = dataset.data[bag_indices]\n",
        "\n",
        "  bag_images_reshaped = bag_images.view(num_images, 1, 28,28).float()\n",
        "\n",
        "  return bag_images_reshaped\n",
        "\n",
        "class MILDataset(torch.utils.data.Dataset):\n",
        "    def __init__(self, bags, scholar_labels, transform=None):\n",
        "        self.bags = bags\n",
        "        self.scholar_labels = scholar_labels\n",
        "        self.transform = transform\n",
        "\n",
        "    def __len__(self):\n",
        "        return len(self.bags)\n",
        "\n",
        "    def __getitem__(self, idx):\n",
        "        bag = self.bags[idx]\n",
        "        scholar_label = self.scholar_labels[idx]\n",
        "\n",
        "        if self.transform:\n",
        "            bag = self.transform(bag)\n",
        "\n",
        "        return bag, scholar_label"
      ],
      "metadata": {
        "colab": {
          "base_uri": "https://localhost:8080/"
        },
        "id": "C9cbOLe1u8B4",
        "outputId": "abffd3fe-c23a-4d6b-c2f9-985ab1bb5e5c"
      },
      "execution_count": 3,
      "outputs": [
        {
          "output_type": "stream",
          "name": "stdout",
          "text": [
            "Downloading http://yann.lecun.com/exdb/mnist/train-images-idx3-ubyte.gz\n",
            "Failed to download (trying next):\n",
            "HTTP Error 403: Forbidden\n",
            "\n",
            "Downloading https://ossci-datasets.s3.amazonaws.com/mnist/train-images-idx3-ubyte.gz\n",
            "Downloading https://ossci-datasets.s3.amazonaws.com/mnist/train-images-idx3-ubyte.gz to mnist/mnist_train/MNIST/raw/train-images-idx3-ubyte.gz\n"
          ]
        },
        {
          "output_type": "stream",
          "name": "stderr",
          "text": [
            "100%|██████████| 9.91M/9.91M [00:00<00:00, 18.0MB/s]\n"
          ]
        },
        {
          "output_type": "stream",
          "name": "stdout",
          "text": [
            "Extracting mnist/mnist_train/MNIST/raw/train-images-idx3-ubyte.gz to mnist/mnist_train/MNIST/raw\n",
            "\n",
            "Downloading http://yann.lecun.com/exdb/mnist/train-labels-idx1-ubyte.gz\n",
            "Failed to download (trying next):\n",
            "HTTP Error 403: Forbidden\n",
            "\n",
            "Downloading https://ossci-datasets.s3.amazonaws.com/mnist/train-labels-idx1-ubyte.gz\n",
            "Downloading https://ossci-datasets.s3.amazonaws.com/mnist/train-labels-idx1-ubyte.gz to mnist/mnist_train/MNIST/raw/train-labels-idx1-ubyte.gz\n"
          ]
        },
        {
          "output_type": "stream",
          "name": "stderr",
          "text": [
            "100%|██████████| 28.9k/28.9k [00:00<00:00, 489kB/s]\n"
          ]
        },
        {
          "output_type": "stream",
          "name": "stdout",
          "text": [
            "Extracting mnist/mnist_train/MNIST/raw/train-labels-idx1-ubyte.gz to mnist/mnist_train/MNIST/raw\n",
            "\n",
            "Downloading http://yann.lecun.com/exdb/mnist/t10k-images-idx3-ubyte.gz\n",
            "Failed to download (trying next):\n",
            "HTTP Error 403: Forbidden\n",
            "\n",
            "Downloading https://ossci-datasets.s3.amazonaws.com/mnist/t10k-images-idx3-ubyte.gz\n",
            "Downloading https://ossci-datasets.s3.amazonaws.com/mnist/t10k-images-idx3-ubyte.gz to mnist/mnist_train/MNIST/raw/t10k-images-idx3-ubyte.gz\n"
          ]
        },
        {
          "output_type": "stream",
          "name": "stderr",
          "text": [
            "100%|██████████| 1.65M/1.65M [00:00<00:00, 4.45MB/s]\n"
          ]
        },
        {
          "output_type": "stream",
          "name": "stdout",
          "text": [
            "Extracting mnist/mnist_train/MNIST/raw/t10k-images-idx3-ubyte.gz to mnist/mnist_train/MNIST/raw\n",
            "\n",
            "Downloading http://yann.lecun.com/exdb/mnist/t10k-labels-idx1-ubyte.gz\n",
            "Failed to download (trying next):\n",
            "HTTP Error 403: Forbidden\n",
            "\n",
            "Downloading https://ossci-datasets.s3.amazonaws.com/mnist/t10k-labels-idx1-ubyte.gz\n",
            "Downloading https://ossci-datasets.s3.amazonaws.com/mnist/t10k-labels-idx1-ubyte.gz to mnist/mnist_train/MNIST/raw/t10k-labels-idx1-ubyte.gz\n"
          ]
        },
        {
          "output_type": "stream",
          "name": "stderr",
          "text": [
            "100%|██████████| 4.54k/4.54k [00:00<00:00, 10.3MB/s]\n"
          ]
        },
        {
          "output_type": "stream",
          "name": "stdout",
          "text": [
            "Extracting mnist/mnist_train/MNIST/raw/t10k-labels-idx1-ubyte.gz to mnist/mnist_train/MNIST/raw\n",
            "\n",
            "Downloading http://yann.lecun.com/exdb/mnist/train-images-idx3-ubyte.gz\n",
            "Failed to download (trying next):\n",
            "HTTP Error 403: Forbidden\n",
            "\n",
            "Downloading https://ossci-datasets.s3.amazonaws.com/mnist/train-images-idx3-ubyte.gz\n",
            "Downloading https://ossci-datasets.s3.amazonaws.com/mnist/train-images-idx3-ubyte.gz to mnist/mnist_test/MNIST/raw/train-images-idx3-ubyte.gz\n"
          ]
        },
        {
          "output_type": "stream",
          "name": "stderr",
          "text": [
            "100%|██████████| 9.91M/9.91M [00:00<00:00, 17.7MB/s]\n"
          ]
        },
        {
          "output_type": "stream",
          "name": "stdout",
          "text": [
            "Extracting mnist/mnist_test/MNIST/raw/train-images-idx3-ubyte.gz to mnist/mnist_test/MNIST/raw\n",
            "\n",
            "Downloading http://yann.lecun.com/exdb/mnist/train-labels-idx1-ubyte.gz\n",
            "Failed to download (trying next):\n",
            "HTTP Error 403: Forbidden\n",
            "\n",
            "Downloading https://ossci-datasets.s3.amazonaws.com/mnist/train-labels-idx1-ubyte.gz\n",
            "Downloading https://ossci-datasets.s3.amazonaws.com/mnist/train-labels-idx1-ubyte.gz to mnist/mnist_test/MNIST/raw/train-labels-idx1-ubyte.gz\n"
          ]
        },
        {
          "output_type": "stream",
          "name": "stderr",
          "text": [
            "100%|██████████| 28.9k/28.9k [00:00<00:00, 476kB/s]\n"
          ]
        },
        {
          "output_type": "stream",
          "name": "stdout",
          "text": [
            "Extracting mnist/mnist_test/MNIST/raw/train-labels-idx1-ubyte.gz to mnist/mnist_test/MNIST/raw\n",
            "\n",
            "Downloading http://yann.lecun.com/exdb/mnist/t10k-images-idx3-ubyte.gz\n",
            "Failed to download (trying next):\n",
            "HTTP Error 403: Forbidden\n",
            "\n",
            "Downloading https://ossci-datasets.s3.amazonaws.com/mnist/t10k-images-idx3-ubyte.gz\n",
            "Downloading https://ossci-datasets.s3.amazonaws.com/mnist/t10k-images-idx3-ubyte.gz to mnist/mnist_test/MNIST/raw/t10k-images-idx3-ubyte.gz\n"
          ]
        },
        {
          "output_type": "stream",
          "name": "stderr",
          "text": [
            "100%|██████████| 1.65M/1.65M [00:00<00:00, 4.42MB/s]\n"
          ]
        },
        {
          "output_type": "stream",
          "name": "stdout",
          "text": [
            "Extracting mnist/mnist_test/MNIST/raw/t10k-images-idx3-ubyte.gz to mnist/mnist_test/MNIST/raw\n",
            "\n",
            "Downloading http://yann.lecun.com/exdb/mnist/t10k-labels-idx1-ubyte.gz\n",
            "Failed to download (trying next):\n",
            "HTTP Error 403: Forbidden\n",
            "\n",
            "Downloading https://ossci-datasets.s3.amazonaws.com/mnist/t10k-labels-idx1-ubyte.gz\n",
            "Downloading https://ossci-datasets.s3.amazonaws.com/mnist/t10k-labels-idx1-ubyte.gz to mnist/mnist_test/MNIST/raw/t10k-labels-idx1-ubyte.gz\n"
          ]
        },
        {
          "output_type": "stream",
          "name": "stderr",
          "text": [
            "100%|██████████| 4.54k/4.54k [00:00<00:00, 4.58MB/s]"
          ]
        },
        {
          "output_type": "stream",
          "name": "stdout",
          "text": [
            "Extracting mnist/mnist_test/MNIST/raw/t10k-labels-idx1-ubyte.gz to mnist/mnist_test/MNIST/raw\n",
            "\n"
          ]
        },
        {
          "output_type": "stream",
          "name": "stderr",
          "text": [
            "\n"
          ]
        }
      ]
    },
    {
      "cell_type": "code",
      "source": [
        "\n",
        "\n",
        "train_targets = np.round(np.linspace(0,1,num=2000),2)\n",
        "valid_targets = np.round(np.linspace(0,1,num=200),2)\n",
        "bags_train = []\n",
        "bags_valid = []\n",
        "for i in range(train_targets.shape[0]):\n",
        "    bag = create_bag(train_targets[i])  # Generate a bag\n",
        "    bags_train.append(bag)\n",
        "for i in range(valid_targets.shape[0]):\n",
        "    bag = create_bag(valid_targets[i])  # Generate a bag\n",
        "    bags_valid.append(bag)\n",
        "train_targets = torch.tensor(train_targets).unsqueeze(1)\n",
        "valid_targets = torch.tensor(valid_targets).unsqueeze(1)\n",
        "train_dataset = MILDataset(bags_train, train_targets)\n",
        "valid_dataset = MILDataset(bags_valid, valid_targets)\n",
        "\n",
        "batch_size = 1\n",
        "\n",
        "train_loader = torch.utils.data.DataLoader(train_dataset, batch_size=batch_size, shuffle=True)\n",
        "valid_loader = torch.utils.data.DataLoader(valid_dataset, batch_size=batch_size, shuffle=True)\n",
        "\n",
        "device='cuda' if torch.cuda.is_available() else 'cpu'\n",
        "model=Model().to(device)\n",
        "#visualize a model\n",
        "model_graph = draw_graph(model, input_size = (1, 100, 1, 28, 28),expand_nested=True)\n",
        "model_graph.visual_graph.render('model_graph', format='png')\n",
        "#training/validation\n",
        "params = [p for p in model.parameters() if p.requires_grad]\n",
        "optimizer = torch.optim.Adam(params, lr=0.000001,weight_decay=0.01)\n",
        "criterion = nn.L1Loss()\n",
        "\n",
        "num_epochs = 20\n",
        "\n",
        "tloss_list = []\n",
        "vloss_list = []\n",
        "for epoch in range(num_epochs):\n",
        "    training_loss = 0\n",
        "    validation_loss = 0\n",
        "    print(\"training\")\n",
        "    num_predictions = 0\n",
        "    pbar = tqdm(len(train_loader))\n",
        "    for bags, targets in train_loader:\n",
        "        bags = bags.to(device)\n",
        "        targets = targets.to(device)\n",
        "        outputs = model(bags)\n",
        "        loss = criterion(outputs, targets)\n",
        "        optimizer.zero_grad()\n",
        "        loss.backward()\n",
        "        optimizer.step()\n",
        "        training_loss += loss.item()*targets.size(0)\n",
        "        num_predictions += targets.size(0)\n",
        "        pbar.update(1)\n",
        "    pbar.close()\n",
        "    training_loss /= num_predictions\n",
        "\n",
        "    print(\"validation\")\n",
        "    num_predictions = 0\n",
        "    pbar = tqdm(len(valid_loader))\n",
        "    model.eval()\n",
        "    with torch.no_grad():\n",
        "      for bags, targets in valid_loader:\n",
        "          bags = bags.to(device)\n",
        "          targets = targets.to(device)\n",
        "          outputs = model(bags)\n",
        "          loss = criterion(outputs, targets)\n",
        "          validation_loss += loss.item()*targets.size(0)\n",
        "          num_predictions += targets.size(0)\n",
        "          pbar.update(1)\n",
        "    pbar.close()\n",
        "    validation_loss /= num_predictions\n",
        "    tloss_list.append(training_loss)\n",
        "    vloss_list.append(validation_loss)\n",
        "\n",
        "    print(f'Epoch {epoch+1}/{num_epochs}, Training Loss: {training_loss:.4f}, Validation Loss: {validation_loss:.4f}')\n",
        "save_path = 'mil_mnist_model.pth'\n",
        "torch.save(model.state_dict(), save_path)"
      ],
      "metadata": {
        "id": "1pvkxxeVLN8X",
        "colab": {
          "base_uri": "https://localhost:8080/"
        },
        "collapsed": true,
        "outputId": "62c55850-5360-4c34-e04c-b885d55b612f"
      },
      "execution_count": 4,
      "outputs": [
        {
          "output_type": "stream",
          "name": "stdout",
          "text": [
            "training\n"
          ]
        },
        {
          "output_type": "stream",
          "name": "stderr",
          "text": [
            "2000it [00:57, 34.90it/s]\n"
          ]
        },
        {
          "output_type": "stream",
          "name": "stdout",
          "text": [
            "validation\n"
          ]
        },
        {
          "output_type": "stream",
          "name": "stderr",
          "text": [
            "200it [00:01, 182.49it/s]\n"
          ]
        },
        {
          "output_type": "stream",
          "name": "stdout",
          "text": [
            "Epoch 1/20, Training Loss: 0.4655, Validation Loss: 0.4284\n",
            "training\n"
          ]
        },
        {
          "output_type": "stream",
          "name": "stderr",
          "text": [
            "2000it [00:55, 36.27it/s]\n"
          ]
        },
        {
          "output_type": "stream",
          "name": "stdout",
          "text": [
            "validation\n"
          ]
        },
        {
          "output_type": "stream",
          "name": "stderr",
          "text": [
            "200it [00:01, 190.77it/s]\n"
          ]
        },
        {
          "output_type": "stream",
          "name": "stdout",
          "text": [
            "Epoch 2/20, Training Loss: 0.3718, Validation Loss: 0.3184\n",
            "training\n"
          ]
        },
        {
          "output_type": "stream",
          "name": "stderr",
          "text": [
            "2000it [00:55, 35.80it/s]\n"
          ]
        },
        {
          "output_type": "stream",
          "name": "stdout",
          "text": [
            "validation\n"
          ]
        },
        {
          "output_type": "stream",
          "name": "stderr",
          "text": [
            "200it [00:01, 175.78it/s]\n"
          ]
        },
        {
          "output_type": "stream",
          "name": "stdout",
          "text": [
            "Epoch 3/20, Training Loss: 0.2839, Validation Loss: 0.2606\n",
            "training\n"
          ]
        },
        {
          "output_type": "stream",
          "name": "stderr",
          "text": [
            "2000it [00:56, 35.42it/s]\n"
          ]
        },
        {
          "output_type": "stream",
          "name": "stdout",
          "text": [
            "validation\n"
          ]
        },
        {
          "output_type": "stream",
          "name": "stderr",
          "text": [
            "200it [00:01, 187.03it/s]\n"
          ]
        },
        {
          "output_type": "stream",
          "name": "stdout",
          "text": [
            "Epoch 4/20, Training Loss: 0.2493, Validation Loss: 0.2411\n",
            "training\n"
          ]
        },
        {
          "output_type": "stream",
          "name": "stderr",
          "text": [
            "2000it [00:57, 34.93it/s]\n"
          ]
        },
        {
          "output_type": "stream",
          "name": "stdout",
          "text": [
            "validation\n"
          ]
        },
        {
          "output_type": "stream",
          "name": "stderr",
          "text": [
            "200it [00:01, 186.56it/s]\n"
          ]
        },
        {
          "output_type": "stream",
          "name": "stdout",
          "text": [
            "Epoch 5/20, Training Loss: 0.2322, Validation Loss: 0.2237\n",
            "training\n"
          ]
        },
        {
          "output_type": "stream",
          "name": "stderr",
          "text": [
            "2000it [00:57, 34.98it/s]\n"
          ]
        },
        {
          "output_type": "stream",
          "name": "stdout",
          "text": [
            "validation\n"
          ]
        },
        {
          "output_type": "stream",
          "name": "stderr",
          "text": [
            "200it [00:01, 186.31it/s]\n"
          ]
        },
        {
          "output_type": "stream",
          "name": "stdout",
          "text": [
            "Epoch 6/20, Training Loss: 0.2055, Validation Loss: 0.1830\n",
            "training\n"
          ]
        },
        {
          "output_type": "stream",
          "name": "stderr",
          "text": [
            "2000it [00:57, 34.94it/s]\n"
          ]
        },
        {
          "output_type": "stream",
          "name": "stdout",
          "text": [
            "validation\n"
          ]
        },
        {
          "output_type": "stream",
          "name": "stderr",
          "text": [
            "200it [00:01, 170.43it/s]\n"
          ]
        },
        {
          "output_type": "stream",
          "name": "stdout",
          "text": [
            "Epoch 7/20, Training Loss: 0.1472, Validation Loss: 0.1069\n",
            "training\n"
          ]
        },
        {
          "output_type": "stream",
          "name": "stderr",
          "text": [
            "2000it [00:57, 34.90it/s]\n"
          ]
        },
        {
          "output_type": "stream",
          "name": "stdout",
          "text": [
            "validation\n"
          ]
        },
        {
          "output_type": "stream",
          "name": "stderr",
          "text": [
            "200it [00:01, 184.98it/s]\n"
          ]
        },
        {
          "output_type": "stream",
          "name": "stdout",
          "text": [
            "Epoch 8/20, Training Loss: 0.0563, Validation Loss: 0.0168\n",
            "training\n"
          ]
        },
        {
          "output_type": "stream",
          "name": "stderr",
          "text": [
            "2000it [00:57, 34.85it/s]\n"
          ]
        },
        {
          "output_type": "stream",
          "name": "stdout",
          "text": [
            "validation\n"
          ]
        },
        {
          "output_type": "stream",
          "name": "stderr",
          "text": [
            "200it [00:01, 186.09it/s]\n"
          ]
        },
        {
          "output_type": "stream",
          "name": "stdout",
          "text": [
            "Epoch 9/20, Training Loss: 0.0107, Validation Loss: 0.0083\n",
            "training\n"
          ]
        },
        {
          "output_type": "stream",
          "name": "stderr",
          "text": [
            "2000it [00:57, 34.75it/s]\n"
          ]
        },
        {
          "output_type": "stream",
          "name": "stdout",
          "text": [
            "validation\n"
          ]
        },
        {
          "output_type": "stream",
          "name": "stderr",
          "text": [
            "200it [00:01, 186.62it/s]\n"
          ]
        },
        {
          "output_type": "stream",
          "name": "stdout",
          "text": [
            "Epoch 10/20, Training Loss: 0.0071, Validation Loss: 0.0080\n",
            "training\n"
          ]
        },
        {
          "output_type": "stream",
          "name": "stderr",
          "text": [
            "2000it [00:57, 34.90it/s]\n"
          ]
        },
        {
          "output_type": "stream",
          "name": "stdout",
          "text": [
            "validation\n"
          ]
        },
        {
          "output_type": "stream",
          "name": "stderr",
          "text": [
            "200it [00:01, 167.92it/s]\n"
          ]
        },
        {
          "output_type": "stream",
          "name": "stdout",
          "text": [
            "Epoch 11/20, Training Loss: 0.0060, Validation Loss: 0.0069\n",
            "training\n"
          ]
        },
        {
          "output_type": "stream",
          "name": "stderr",
          "text": [
            "2000it [00:57, 34.94it/s]\n"
          ]
        },
        {
          "output_type": "stream",
          "name": "stdout",
          "text": [
            "validation\n"
          ]
        },
        {
          "output_type": "stream",
          "name": "stderr",
          "text": [
            "200it [00:01, 185.72it/s]\n"
          ]
        },
        {
          "output_type": "stream",
          "name": "stdout",
          "text": [
            "Epoch 12/20, Training Loss: 0.0055, Validation Loss: 0.0064\n",
            "training\n"
          ]
        },
        {
          "output_type": "stream",
          "name": "stderr",
          "text": [
            "2000it [00:57, 34.86it/s]\n"
          ]
        },
        {
          "output_type": "stream",
          "name": "stdout",
          "text": [
            "validation\n"
          ]
        },
        {
          "output_type": "stream",
          "name": "stderr",
          "text": [
            "200it [00:01, 185.86it/s]\n"
          ]
        },
        {
          "output_type": "stream",
          "name": "stdout",
          "text": [
            "Epoch 13/20, Training Loss: 0.0050, Validation Loss: 0.0059\n",
            "training\n"
          ]
        },
        {
          "output_type": "stream",
          "name": "stderr",
          "text": [
            "2000it [00:57, 34.93it/s]\n"
          ]
        },
        {
          "output_type": "stream",
          "name": "stdout",
          "text": [
            "validation\n"
          ]
        },
        {
          "output_type": "stream",
          "name": "stderr",
          "text": [
            "200it [00:01, 184.12it/s]\n"
          ]
        },
        {
          "output_type": "stream",
          "name": "stdout",
          "text": [
            "Epoch 14/20, Training Loss: 0.0045, Validation Loss: 0.0052\n",
            "training\n"
          ]
        },
        {
          "output_type": "stream",
          "name": "stderr",
          "text": [
            "2000it [00:57, 34.86it/s]\n"
          ]
        },
        {
          "output_type": "stream",
          "name": "stdout",
          "text": [
            "validation\n"
          ]
        },
        {
          "output_type": "stream",
          "name": "stderr",
          "text": [
            "200it [00:01, 169.84it/s]\n"
          ]
        },
        {
          "output_type": "stream",
          "name": "stdout",
          "text": [
            "Epoch 15/20, Training Loss: 0.0043, Validation Loss: 0.0052\n",
            "training\n"
          ]
        },
        {
          "output_type": "stream",
          "name": "stderr",
          "text": [
            "2000it [00:57, 35.01it/s]\n"
          ]
        },
        {
          "output_type": "stream",
          "name": "stdout",
          "text": [
            "validation\n"
          ]
        },
        {
          "output_type": "stream",
          "name": "stderr",
          "text": [
            "200it [00:01, 185.57it/s]\n"
          ]
        },
        {
          "output_type": "stream",
          "name": "stdout",
          "text": [
            "Epoch 16/20, Training Loss: 0.0040, Validation Loss: 0.0048\n",
            "training\n"
          ]
        },
        {
          "output_type": "stream",
          "name": "stderr",
          "text": [
            "2000it [00:57, 34.99it/s]\n"
          ]
        },
        {
          "output_type": "stream",
          "name": "stdout",
          "text": [
            "validation\n"
          ]
        },
        {
          "output_type": "stream",
          "name": "stderr",
          "text": [
            "200it [00:01, 184.41it/s]\n"
          ]
        },
        {
          "output_type": "stream",
          "name": "stdout",
          "text": [
            "Epoch 17/20, Training Loss: 0.0039, Validation Loss: 0.0047\n",
            "training\n"
          ]
        },
        {
          "output_type": "stream",
          "name": "stderr",
          "text": [
            "2000it [00:57, 34.98it/s]\n"
          ]
        },
        {
          "output_type": "stream",
          "name": "stdout",
          "text": [
            "validation\n"
          ]
        },
        {
          "output_type": "stream",
          "name": "stderr",
          "text": [
            "200it [00:01, 186.40it/s]\n"
          ]
        },
        {
          "output_type": "stream",
          "name": "stdout",
          "text": [
            "Epoch 18/20, Training Loss: 0.0036, Validation Loss: 0.0045\n",
            "training\n"
          ]
        },
        {
          "output_type": "stream",
          "name": "stderr",
          "text": [
            "2000it [00:57, 35.00it/s]\n"
          ]
        },
        {
          "output_type": "stream",
          "name": "stdout",
          "text": [
            "validation\n"
          ]
        },
        {
          "output_type": "stream",
          "name": "stderr",
          "text": [
            "200it [00:01, 175.95it/s]\n"
          ]
        },
        {
          "output_type": "stream",
          "name": "stdout",
          "text": [
            "Epoch 19/20, Training Loss: 0.0034, Validation Loss: 0.0044\n",
            "training\n"
          ]
        },
        {
          "output_type": "stream",
          "name": "stderr",
          "text": [
            "2000it [00:57, 34.99it/s]\n"
          ]
        },
        {
          "output_type": "stream",
          "name": "stdout",
          "text": [
            "validation\n"
          ]
        },
        {
          "output_type": "stream",
          "name": "stderr",
          "text": [
            "200it [00:01, 186.58it/s]\n"
          ]
        },
        {
          "output_type": "stream",
          "name": "stdout",
          "text": [
            "Epoch 20/20, Training Loss: 0.0034, Validation Loss: 0.0056\n"
          ]
        }
      ]
    },
    {
      "cell_type": "code",
      "source": [
        "#Visualize the learning process\n",
        "plt.plot(tloss_list,label='Training Loss')\n",
        "plt.plot(vloss_list,label='Validation Loss')\n",
        "plt.xlabel('Epoch')\n",
        "plt.xticks(np.arange(0,len(tloss_list),1))\n",
        "plt.ylabel('Loss')\n",
        "plt.title('Learning Process')\n",
        "plt.legend()\n",
        "plt.show()"
      ],
      "metadata": {
        "colab": {
          "base_uri": "https://localhost:8080/",
          "height": 472
        },
        "id": "CQ6XzMxxJhY5",
        "outputId": "a7717725-15cc-4a39-b193-0284057ad150"
      },
      "execution_count": 5,
      "outputs": [
        {
          "output_type": "display_data",
          "data": {
            "text/plain": [
              "<Figure size 640x480 with 1 Axes>"
            ],
            "image/png": "[encoded data removed]"
          },
          "metadata": {}
        }
      ]
    },
    {
      "cell_type": "code",
      "source": [
        "save_path = 'mil_mnist_model.pth'#change here if using another pretrained model\n",
        "model = Model()\n",
        "model.load_state_dict(torch.load(save_path))\n",
        "model = model.to(device)\n",
        "model.eval()"
      ],
      "metadata": {
        "colab": {
          "base_uri": "https://localhost:8080/"
        },
        "id": "pP50ZPYE53h1",
        "outputId": "cfbdad0d-e354-46ad-a04e-e891dc478c31"
      },
      "execution_count": 8,
      "outputs": [
        {
          "output_type": "stream",
          "name": "stderr",
          "text": [
            "<ipython-input-8-465f01eb09a6>:3: FutureWarning: You are using `torch.load` with `weights_only=False` (the current default value), which uses the default pickle module implicitly. It is possible to construct malicious pickle data which will execute arbitrary code during unpickling (See https://github.com/pytorch/pytorch/blob/main/SECURITY.md#untrusted-models for more details). In a future release, the default value for `weights_only` will be flipped to `True`. This limits the functions that could be executed during unpickling. Arbitrary objects will no longer be allowed to be loaded via this mode unless they are explicitly allowlisted by the user via `torch.serialization.add_safe_globals`. We recommend you start setting `weights_only=True` for any use case where you don't have full control of the loaded file. Please open an issue on GitHub for any issues related to this experimental feature.\n",
            "  model.load_state_dict(torch.load(save_path))\n"
          ]
        },
        {
          "output_type": "execute_result",
          "data": {
            "text/plain": [
              "Model(\n",
              "  (feature_extractor): FeatureExtractor(\n",
              "    (_model_conv): ResNet(\n",
              "      (conv1): Conv2d(1, 64, kernel_size=(7, 7), stride=(2, 2), padding=(3, 3), bias=False)\n",
              "      (bn1): BatchNorm2d(64, eps=1e-05, momentum=0.1, affine=True, track_running_stats=True)\n",
              "      (relu): ReLU(inplace=True)\n",
              "      (maxpool): MaxPool2d(kernel_size=3, stride=2, padding=1, dilation=1, ceil_mode=False)\n",
              "      (layer1): Sequential(\n",
              "        (0): BasicBlock(\n",
              "          (conv1): Conv2d(64, 64, kernel_size=(3, 3), stride=(1, 1), padding=(1, 1), bias=False)\n",
              "          (bn1): BatchNorm2d(64, eps=1e-05, momentum=0.1, affine=True, track_running_stats=True)\n",
              "          (relu): ReLU(inplace=True)\n",
              "          (conv2): Conv2d(64, 64, kernel_size=(3, 3), stride=(1, 1), padding=(1, 1), bias=False)\n",
              "          (bn2): BatchNorm2d(64, eps=1e-05, momentum=0.1, affine=True, track_running_stats=True)\n",
              "        )\n",
              "        (1): BasicBlock(\n",
              "          (conv1): Conv2d(64, 64, kernel_size=(3, 3), stride=(1, 1), padding=(1, 1), bias=False)\n",
              "          (bn1): BatchNorm2d(64, eps=1e-05, momentum=0.1, affine=True, track_running_stats=True)\n",
              "          (relu): ReLU(inplace=True)\n",
              "          (conv2): Conv2d(64, 64, kernel_size=(3, 3), stride=(1, 1), padding=(1, 1), bias=False)\n",
              "          (bn2): BatchNorm2d(64, eps=1e-05, momentum=0.1, affine=True, track_running_stats=True)\n",
              "        )\n",
              "      )\n",
              "      (layer2): Sequential(\n",
              "        (0): BasicBlock(\n",
              "          (conv1): Conv2d(64, 128, kernel_size=(3, 3), stride=(2, 2), padding=(1, 1), bias=False)\n",
              "          (bn1): BatchNorm2d(128, eps=1e-05, momentum=0.1, affine=True, track_running_stats=True)\n",
              "          (relu): ReLU(inplace=True)\n",
              "          (conv2): Conv2d(128, 128, kernel_size=(3, 3), stride=(1, 1), padding=(1, 1), bias=False)\n",
              "          (bn2): BatchNorm2d(128, eps=1e-05, momentum=0.1, affine=True, track_running_stats=True)\n",
              "          (downsample): Sequential(\n",
              "            (0): Conv2d(64, 128, kernel_size=(1, 1), stride=(2, 2), bias=False)\n",
              "            (1): BatchNorm2d(128, eps=1e-05, momentum=0.1, affine=True, track_running_stats=True)\n",
              "          )\n",
              "        )\n",
              "        (1): BasicBlock(\n",
              "          (conv1): Conv2d(128, 128, kernel_size=(3, 3), stride=(1, 1), padding=(1, 1), bias=False)\n",
              "          (bn1): BatchNorm2d(128, eps=1e-05, momentum=0.1, affine=True, track_running_stats=True)\n",
              "          (relu): ReLU(inplace=True)\n",
              "          (conv2): Conv2d(128, 128, kernel_size=(3, 3), stride=(1, 1), padding=(1, 1), bias=False)\n",
              "          (bn2): BatchNorm2d(128, eps=1e-05, momentum=0.1, affine=True, track_running_stats=True)\n",
              "        )\n",
              "      )\n",
              "      (layer3): Sequential(\n",
              "        (0): BasicBlock(\n",
              "          (conv1): Conv2d(128, 256, kernel_size=(3, 3), stride=(2, 2), padding=(1, 1), bias=False)\n",
              "          (bn1): BatchNorm2d(256, eps=1e-05, momentum=0.1, affine=True, track_running_stats=True)\n",
              "          (relu): ReLU(inplace=True)\n",
              "          (conv2): Conv2d(256, 256, kernel_size=(3, 3), stride=(1, 1), padding=(1, 1), bias=False)\n",
              "          (bn2): BatchNorm2d(256, eps=1e-05, momentum=0.1, affine=True, track_running_stats=True)\n",
              "          (downsample): Sequential(\n",
              "            (0): Conv2d(128, 256, kernel_size=(1, 1), stride=(2, 2), bias=False)\n",
              "            (1): BatchNorm2d(256, eps=1e-05, momentum=0.1, affine=True, track_running_stats=True)\n",
              "          )\n",
              "        )\n",
              "        (1): BasicBlock(\n",
              "          (conv1): Conv2d(256, 256, kernel_size=(3, 3), stride=(1, 1), padding=(1, 1), bias=False)\n",
              "          (bn1): BatchNorm2d(256, eps=1e-05, momentum=0.1, affine=True, track_running_stats=True)\n",
              "          (relu): ReLU(inplace=True)\n",
              "          (conv2): Conv2d(256, 256, kernel_size=(3, 3), stride=(1, 1), padding=(1, 1), bias=False)\n",
              "          (bn2): BatchNorm2d(256, eps=1e-05, momentum=0.1, affine=True, track_running_stats=True)\n",
              "        )\n",
              "      )\n",
              "      (layer4): Sequential(\n",
              "        (0): BasicBlock(\n",
              "          (conv1): Conv2d(256, 512, kernel_size=(3, 3), stride=(2, 2), padding=(1, 1), bias=False)\n",
              "          (bn1): BatchNorm2d(512, eps=1e-05, momentum=0.1, affine=True, track_running_stats=True)\n",
              "          (relu): ReLU(inplace=True)\n",
              "          (conv2): Conv2d(512, 512, kernel_size=(3, 3), stride=(1, 1), padding=(1, 1), bias=False)\n",
              "          (bn2): BatchNorm2d(512, eps=1e-05, momentum=0.1, affine=True, track_running_stats=True)\n",
              "          (downsample): Sequential(\n",
              "            (0): Conv2d(256, 512, kernel_size=(1, 1), stride=(2, 2), bias=False)\n",
              "            (1): BatchNorm2d(512, eps=1e-05, momentum=0.1, affine=True, track_running_stats=True)\n",
              "          )\n",
              "        )\n",
              "        (1): BasicBlock(\n",
              "          (conv1): Conv2d(512, 512, kernel_size=(3, 3), stride=(1, 1), padding=(1, 1), bias=False)\n",
              "          (bn1): BatchNorm2d(512, eps=1e-05, momentum=0.1, affine=True, track_running_stats=True)\n",
              "          (relu): ReLU(inplace=True)\n",
              "          (conv2): Conv2d(512, 512, kernel_size=(3, 3), stride=(1, 1), padding=(1, 1), bias=False)\n",
              "          (bn2): BatchNorm2d(512, eps=1e-05, momentum=0.1, affine=True, track_running_stats=True)\n",
              "        )\n",
              "      )\n",
              "      (avgpool): AdaptiveAvgPool2d(output_size=(1, 1))\n",
              "      (fc): Linear(in_features=512, out_features=64, bias=True)\n",
              "    )\n",
              "    (relu): ReLU()\n",
              "  )\n",
              "  (distribution_pooling_filter): DistributionPoolingFilter()\n",
              "  (representation_transformation): RepresentationTransformation(\n",
              "    (fc): Sequential(\n",
              "      (0): Dropout(p=0.5, inplace=False)\n",
              "      (1): Linear(in_features=1344, out_features=384, bias=True)\n",
              "      (2): ReLU()\n",
              "      (3): Dropout(p=0.5, inplace=False)\n",
              "      (4): Linear(in_features=384, out_features=192, bias=True)\n",
              "      (5): ReLU()\n",
              "      (6): Dropout(p=0.5, inplace=False)\n",
              "      (7): Linear(in_features=192, out_features=1, bias=True)\n",
              "    )\n",
              "  )\n",
              ")"
            ]
          },
          "metadata": {},
          "execution_count": 8
        }
      ]
    },
    {
      "cell_type": "code",
      "source": [
        "#predict on test data\n",
        "test_targets = np.round(np.linspace(0,1,num=200),2)\n",
        "bags_test = []\n",
        "for i in range(test_targets.shape[0]):\n",
        "    bag = create_bag(test_targets[i],dataset=mnist_test)  # Generate a bag\n",
        "    bags_test.append(bag)\n",
        "test_targets = torch.tensor(test_targets).unsqueeze(1)\n",
        "test_dataset = MILDataset(bags_test, test_targets)\n",
        "\n",
        "batch_size = 1\n",
        "\n",
        "test_loader = torch.utils.data.DataLoader(test_dataset, batch_size=batch_size, shuffle=True)\n",
        "\n",
        "total_loss = 0\n",
        "all_predictions = []\n",
        "all_targets = []\n",
        "\n",
        "with torch.no_grad():  # Disable gradient calculations during evaluation\n",
        "    for bags, targets in test_loader:\n",
        "        bags = bags.to(device)\n",
        "        targets = targets.to(device)\n",
        "        outputs = model(bags)\n",
        "        loss = criterion(outputs, targets)  # Calculate loss\n",
        "        total_loss += loss.item()\n",
        "\n",
        "        # Store predictions and targets for metric calculation\n",
        "        all_predictions.extend(outputs.cpu().numpy().flatten())\n",
        "        all_targets.extend(targets.cpu().numpy().flatten())\n",
        "all_predictions = np.array(all_predictions)\n",
        "all_targets = np.array(all_targets)\n",
        "m,b = np.polyfit(all_targets,all_predictions,1)\n",
        "r_sq = 1 - (np.sum((all_predictions - all_targets)**2) / np.sum((all_targets - np.mean(all_targets))**2))\n",
        "\n",
        "plt.plot(all_targets,all_predictions,'.')\n",
        "plt.plot(all_targets,m*all_targets + b)\n",
        "plt.xlabel('Target')\n",
        "plt.ylabel('Prediction')\n",
        "plt.title('Prediction vs Target')\n",
        "plt.show()\n",
        "from sklearn.metrics import mean_squared_error, mean_absolute_error\n",
        "mse = mean_squared_error(all_targets, all_predictions)\n",
        "mae = mean_absolute_error(all_targets, all_predictions)\n",
        "print(f\"r^2: {r_sq}\")\n",
        "print(f\"Mean Squared Error: {mse}\")\n",
        "print(f\"Mean Absolute Error: {mae}\")"
      ],
      "metadata": {
        "colab": {
          "base_uri": "https://localhost:8080/",
          "height": 524
        },
        "id": "vMkiaM9Y82s9",
        "outputId": "88ffeaa5-7791-4c7c-c7a3-3c0dd17b9b52"
      },
      "execution_count": 9,
      "outputs": [
        {
          "output_type": "display_data",
          "data": {
            "text/plain": [
              "<Figure size 640x480 with 1 Axes>"
            ],
            "image/png": "[encoded data removed]"
          },
          "metadata": {}
        },
        {
          "output_type": "stream",
          "name": "stdout",
          "text": [
            "r^2: 0.9989881856795509\n",
            "Mean Squared Error: 8.433472360942998e-05\n",
            "Mean Absolute Error: 0.007070153154619036\n"
          ]
        }
      ]
    }
  ]
}